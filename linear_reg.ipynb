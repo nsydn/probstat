{
  "nbformat": 4,
  "nbformat_minor": 0,
  "metadata": {
    "colab": {
      "name": "linear_reg.ipynb",
      "provenance": [],
      "authorship_tag": "ABX9TyMM7U54/dhpKGZHI+VQ+2do",
      "include_colab_link": true
    },
    "kernelspec": {
      "name": "python3",
      "display_name": "Python 3"
    },
    "language_info": {
      "name": "python"
    }
  },
  "cells": [
    {
      "cell_type": "markdown",
      "metadata": {
        "id": "view-in-github",
        "colab_type": "text"
      },
      "source": [
        "<a href=\"https://colab.research.google.com/github/nsydn/probstat/blob/master/linear_reg.ipynb\" target=\"_parent\"><img src=\"https://colab.research.google.com/assets/colab-badge.svg\" alt=\"Open In Colab\"/></a>"
      ]
    },
    {
      "cell_type": "markdown",
      "metadata": {
        "id": "WD1ycu_T4Fa3"
      },
      "source": [
        "## Linear Regression"
      ]
    },
    {
      "cell_type": "markdown",
      "metadata": {
        "id": "JfBf7og6-PCx"
      },
      "source": [
        "### The Boston Housing Dataset\n",
        "The Boston Housing Dataset includes data concerning housing in the towns of Boston, MA. The following describes the dataset columns:\n",
        "\n",
        "* CRIM: per capita crime rate by town\n",
        "* RM: average number of rooms per unit\n",
        "* AGE: proportion of units built before 1940\n",
        "* DIS: weighted distances to five Boston employment centres\n",
        "* PTRATIO: pupil-teacher ratio by town\n",
        "* LSTAT: proportion (\\%) of low-educated population\n",
        "* MEDV: median value of houses (in \\$1000 units)"
      ]
    },
    {
      "cell_type": "code",
      "metadata": {
        "colab": {
          "resources": {
            "http://localhost:8080/nbextensions/google.colab/files.js": {
              "data": "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",
              "ok": true,
              "headers": [
                [
                  "content-type",
                  "application/javascript"
                ]
              ],
              "status": 200,
              "status_text": ""
            }
          },
          "base_uri": "https://localhost:8080/",
          "height": 73
        },
        "id": "hKDlJL325xuu",
        "outputId": "c973d81a-07cc-4f7c-b6bc-7b9c354ce127"
      },
      "source": [
        "import numpy as np\n",
        "import pandas as pd\n",
        "from google.colab import files\n",
        "uploaded = files.upload()\n",
        "import matplotlib.pyplot as plt"
      ],
      "execution_count": null,
      "outputs": [
        {
          "output_type": "display_data",
          "data": {
            "text/html": [
              "\n",
              "     <input type=\"file\" id=\"files-cff81ba6-2bbc-4c2f-a75a-41b24553dfbd\" name=\"files[]\" multiple disabled\n",
              "        style=\"border:none\" />\n",
              "     <output id=\"result-cff81ba6-2bbc-4c2f-a75a-41b24553dfbd\">\n",
              "      Upload widget is only available when the cell has been executed in the\n",
              "      current browser session. Please rerun this cell to enable.\n",
              "      </output>\n",
              "      <script src=\"/nbextensions/google.colab/files.js\"></script> "
            ],
            "text/plain": [
              "<IPython.core.display.HTML object>"
            ]
          },
          "metadata": {
            "tags": []
          }
        },
        {
          "output_type": "stream",
          "text": [
            "Saving housing_clean.csv to housing_clean.csv\n"
          ],
          "name": "stdout"
        }
      ]
    },
    {
      "cell_type": "code",
      "metadata": {
        "colab": {
          "base_uri": "https://localhost:8080/"
        },
        "id": "9U9tz3w67moW",
        "outputId": "9443f9b3-ae13-4c65-dbb8-b49a0fa75e26"
      },
      "source": [
        "from pandas import read_csv\n",
        "column_names = ['CRIM', 'RM', 'AGE', 'DIS', 'PTRATIO', 'LSTAT', 'MEDV']\n",
        "data = read_csv('housing_clean.csv', header=None, names=column_names)\n",
        "print(data.head(5))"
      ],
      "execution_count": null,
      "outputs": [
        {
          "output_type": "stream",
          "text": [
            "      CRIM     RM   AGE     DIS  PTRATIO  LSTAT  MEDV\n",
            "0  0.00632  6.575  65.2  4.0900     15.3   4.98  24.0\n",
            "1  0.02731  6.421  78.9  4.9671     17.8   9.14  21.6\n",
            "2  0.02729  7.185  61.1  4.9671     17.8   4.03  34.7\n",
            "3  0.03237  6.998  45.8  6.0622     18.7   2.94  33.4\n",
            "4  0.06905  7.147  54.2  6.0622     18.7   5.33  36.2\n"
          ],
          "name": "stdout"
        }
      ]
    },
    {
      "cell_type": "code",
      "metadata": {
        "colab": {
          "base_uri": "https://localhost:8080/"
        },
        "id": "P-F-XlDX86Lr",
        "outputId": "923be5ce-32eb-40fe-8701-62346fa9289a"
      },
      "source": [
        "print(np.shape(data))\n",
        "print(data.describe())"
      ],
      "execution_count": null,
      "outputs": [
        {
          "output_type": "stream",
          "text": [
            "(436, 7)\n",
            "             CRIM          RM         AGE  ...     PTRATIO       LSTAT        MEDV\n",
            "count  436.000000  436.000000  436.000000  ...  436.000000  436.000000  436.000000\n",
            "mean     1.373758    6.301686   65.114679  ...   18.311927   11.701950   22.787156\n",
            "std      2.460645    0.610307   28.100681  ...    2.147855    6.098762    7.360121\n",
            "min      0.006320    3.561000    2.900000  ...   12.600000    1.980000    6.300000\n",
            "25%      0.069875    5.923000   40.475000  ...   16.900000    6.840000   18.400000\n",
            "50%      0.180290    6.211000   70.950000  ...   18.600000   10.450000   21.700000\n",
            "75%      1.072092    6.604500   91.325000  ...   20.200000   15.430000   25.000000\n",
            "max      9.966540    8.780000  100.000000  ...   22.000000   34.410000   48.800000\n",
            "\n",
            "[8 rows x 7 columns]\n"
          ],
          "name": "stdout"
        }
      ]
    },
    {
      "cell_type": "code",
      "metadata": {
        "colab": {
          "base_uri": "https://localhost:8080/",
          "height": 352
        },
        "id": "BI5cM_155TmJ",
        "outputId": "2549e977-cc67-436d-d2bd-cde133690d27"
      },
      "source": [
        "# visualize the relationship between the features and the response using scatterplots\n",
        "fig, axs = plt.subplots(1, 4, figsize=(15, 5))\n",
        "axs[0].scatter(data.LSTAT, data.MEDV, color='blue'); axs[0].set_xlabel('LSTAT'); axs[0].set_ylabel('MEDV')\n",
        "axs[1].scatter(data.RM, data.MEDV, color='orange'); axs[1].set_xlabel('RM'); axs[0].set_ylabel('MEDV')\n",
        "axs[2].scatter(data.DIS, data.MEDV, color='green'); axs[2].set_xlabel('DIS'); axs[0].set_ylabel('MEDV')\n",
        "axs[3].scatter(data.AGE, data.MEDV, color='red'); axs[3].set_xlabel('AGE'); axs[0].set_ylabel('MEDV')"
      ],
      "execution_count": null,
      "outputs": [
        {
          "output_type": "execute_result",
          "data": {
            "text/plain": [
              "Text(0, 0.5, 'MEDV')"
            ]
          },
          "metadata": {
            "tags": []
          },
          "execution_count": 13
        },
        {
          "output_type": "display_data",
          "data": {
            "image/png": "[encoded data removed]",
            "text/plain": [
              "<Figure size 1080x360 with 4 Axes>"
            ]
          },
          "metadata": {
            "tags": [],
            "needs_background": "light"
          }
        }
      ]
    },
    {
      "cell_type": "markdown",
      "metadata": {
        "id": "FvfrkbLmKIPD"
      },
      "source": [
        "### Hypothesis\n",
        "We'd like to propose the following hypothesis:\n",
        "\n",
        "*   $H_0$: $\\beta_1=\\beta_2=\\dots=\\beta_k=0$ (There is no significant relation between $X$ variables and $Y$.)\n",
        "*   $H_1$: $\\beta_j\\neq 0$ at least for one $j\\in\\{1,\\dots,k\\}$ (There is significant relation between at least one $X$ variable and $Y$.)"
      ]
    },
    {
      "cell_type": "markdown",
      "metadata": {
        "id": "U-cb9AQZMxWR"
      },
      "source": [
        "### Simple Linear Regression\n",
        "\n",
        "Simple linear regression is an approach for predicting a quantitative **response** using a **one or more features** (or \"regressors\" or \"predictors\" or \"input variables\" or \"independent variables\"). It takes the following form:\n",
        "\n",
        "$y = \\beta_0 + \\beta_1x_1 + \\dots + \\beta_nx_n + \\epsilon$\n",
        "\n",
        "What does each term represent?\n",
        "- $y$ is the response\n",
        "- $x_1,\\dots,x_n$ are features\n",
        "- $\\beta_0$ is the **population** intercept coefficient\n",
        "- $\\beta_1,\\dots,\\beta_n$ are the *population* slope coefficients for $x_1,\\dots,x_n$\n",
        "- $\\epsilon$ is the **population** error/residual/innovation term\n",
        "\n",
        "To be able use our model, we must **estimate** the values of these coefficients based on available data (**model training**). And once we've estimated these coefficients, we can use the model to **predict** $y$ values for items that are not in our sample (**model test**)."
      ]
    },
    {
      "cell_type": "markdown",
      "metadata": {
        "id": "DAwag8_vNAWC"
      },
      "source": [
        "### Estimating (or *Learning*) Model Coefficients\n",
        "\n",
        "Now, assume we have a data set of $N$ observations. Model coefficients are generally estimated using the ordinary **Least Squares Method**, which means we are estimating the regression line that minimizes the **sum of squared errors** and therefore maximizes the $R^2$: $$SSE=\\sum_{i=1}^N (y_i-\\hat{y})^2=\\sum_{i=1}^N e_i^2\\quad R^2=1-\\frac{SSE}{TSS}$$"
      ]
    },
    {
      "cell_type": "markdown",
      "metadata": {
        "id": "CIHgh4JQNZNe"
      },
      "source": [
        "**`linregress`**: Python `scipy`'s `linregress` function can only be used for **single-variable** regressions. Alternatively, we can use `statsmodels` to estimate the model coefficients for the house price data:"
      ]
    },
    {
      "cell_type": "code",
      "metadata": {
        "colab": {
          "base_uri": "https://localhost:8080/"
        },
        "id": "GbwAmABUNpgA",
        "outputId": "7cd3a98a-4de7-4189-fe91-2dce44b970ae"
      },
      "source": [
        "x=data.RM; y=data.MEDV\n",
        "from scipy import stats\n",
        "b1,b0,rho,p,se = stats.linregress(x,y)\n",
        "print(' Intercept (b0): %.4f\\n Slope (b1): %.4f\\n P-value: %.4f\\n R-squared: %.4f' % (b0,b1,p,rho**2))"
      ],
      "execution_count": null,
      "outputs": [
        {
          "output_type": "stream",
          "text": [
            " Intercept (b0): -34.1593\n",
            " Slope (b1): 9.0367\n",
            " P-value: 0.0000\n",
            " R-squared: 0.5615\n"
          ],
          "name": "stdout"
        }
      ]
    },
    {
      "cell_type": "code",
      "metadata": {
        "colab": {
          "base_uri": "https://localhost:8080/",
          "height": 282
        },
        "id": "76F0111wQZqQ",
        "outputId": "7afb8bd3-194c-46ff-e2ba-740e9e7cbc3b"
      },
      "source": [
        "plt.plot(x, y, 'o', label='actual')\n",
        "plt.plot(x, b0 + b1*x, 'r', label='fitted')\n",
        "plt.legend()"
      ],
      "execution_count": null,
      "outputs": [
        {
          "output_type": "execute_result",
          "data": {
            "text/plain": [
              "<matplotlib.legend.Legend at 0x7fb5c2645950>"
            ]
          },
          "metadata": {
            "tags": []
          },
          "execution_count": 18
        },
        {
          "output_type": "display_data",
          "data": {
            "image/png": "[encoded data removed]",
            "text/plain": [
              "<Figure size 432x288 with 1 Axes>"
            ]
          },
          "metadata": {
            "tags": [],
            "needs_background": "light"
          }
        }
      ]
    },
    {
      "cell_type": "markdown",
      "metadata": {
        "id": "HsLaSV4f8Wuk"
      },
      "source": [
        "**`statsmodels`**: Getting a detailed regression report is not easy in `stats.linregress`. Instead, we can use `statsmodels` which also allows for **multi-variable** regressions."
      ]
    },
    {
      "cell_type": "code",
      "metadata": {
        "colab": {
          "base_uri": "https://localhost:8080/"
        },
        "id": "ImaE8q4wNMYU",
        "outputId": "4686621e-e66a-4584-98cf-9a2c1512223e"
      },
      "source": [
        "import statsmodels.formula.api as smf\n",
        "\n",
        "# Define and fit a regression model\n",
        "model = smf.ols(formula='MEDV ~ RM', data=data)\n",
        "linreg = model.fit()\n",
        "\n",
        "# Print the model coefficients or a summary table\n",
        "print(linreg.params)\n",
        "print(linreg.summary())"
      ],
      "execution_count": null,
      "outputs": [
        {
          "output_type": "stream",
          "text": [
            "Intercept   -34.159291\n",
            "RM            9.036700\n",
            "dtype: float64\n",
            "                            OLS Regression Results                            \n",
            "==============================================================================\n",
            "Dep. Variable:                   MEDV   R-squared:                       0.561\n",
            "Model:                            OLS   Adj. R-squared:                  0.560\n",
            "Method:                 Least Squares   F-statistic:                     555.7\n",
            "Date:                Tue, 11 May 2021   Prob (F-statistic):           1.04e-79\n",
            "Time:                        05:50:47   Log-Likelihood:                -1308.7\n",
            "No. Observations:                 436   AIC:                             2621.\n",
            "Df Residuals:                     434   BIC:                             2630.\n",
            "Df Model:                           1                                         \n",
            "Covariance Type:            nonrobust                                         \n",
            "==============================================================================\n",
            "                 coef    std err          t      P>|t|      [0.025      0.975]\n",
            "------------------------------------------------------------------------------\n",
            "Intercept    -34.1593      2.427    -14.075      0.000     -38.929     -29.389\n",
            "RM             9.0367      0.383     23.574      0.000       8.283       9.790\n",
            "==============================================================================\n",
            "Omnibus:                       48.863   Durbin-Watson:                   0.984\n",
            "Prob(Omnibus):                  0.000   Jarque-Bera (JB):              327.273\n",
            "Skew:                          -0.014   Prob(JB):                     8.58e-72\n",
            "Kurtosis:                       7.244   Cond. No.                         67.4\n",
            "==============================================================================\n",
            "\n",
            "Warnings:\n",
            "[1] Standard Errors assume that the covariance matrix of the errors is correctly specified.\n"
          ],
          "name": "stdout"
        }
      ]
    },
    {
      "cell_type": "code",
      "metadata": {
        "colab": {
          "base_uri": "https://localhost:8080/"
        },
        "id": "raDgbDYwwQ5C",
        "outputId": "47b0db63-9037-42c0-b540-c0d21f9e9c07"
      },
      "source": [
        "import statsmodels.formula.api as smf\n",
        "\n",
        "# Fit a regression model\n",
        "model = smf.ols(formula='MEDV ~ LSTAT + RM + AGE + DIS', data=data)\n",
        "linreg = model.fit()\n",
        "\n",
        "# Print the model coefficients or a summary table\n",
        "print(linreg.params)\n",
        "print(linreg.summary())"
      ],
      "execution_count": null,
      "outputs": [
        {
          "output_type": "stream",
          "text": [
            "Intercept   -5.927427\n",
            "LSTAT       -0.437618\n",
            "RM           6.184593\n",
            "AGE         -0.049344\n",
            "DIS         -0.469791\n",
            "dtype: float64\n",
            "                            OLS Regression Results                            \n",
            "==============================================================================\n",
            "Dep. Variable:                   MEDV   R-squared:                       0.693\n",
            "Model:                            OLS   Adj. R-squared:                  0.690\n",
            "Method:                 Least Squares   F-statistic:                     243.6\n",
            "Date:                Tue, 11 May 2021   Prob (F-statistic):          3.64e-109\n",
            "Time:                        05:52:53   Log-Likelihood:                -1230.8\n",
            "No. Observations:                 436   AIC:                             2472.\n",
            "Df Residuals:                     431   BIC:                             2492.\n",
            "Df Model:                           4                                         \n",
            "Covariance Type:            nonrobust                                         \n",
            "==============================================================================\n",
            "                 coef    std err          t      P>|t|      [0.025      0.975]\n",
            "------------------------------------------------------------------------------\n",
            "Intercept     -5.9274      3.063     -1.935      0.054     -11.947       0.092\n",
            "LSTAT         -0.4376      0.052     -8.459      0.000      -0.539      -0.336\n",
            "RM             6.1846      0.417     14.841      0.000       5.366       7.004\n",
            "AGE           -0.0493      0.011     -4.322      0.000      -0.072      -0.027\n",
            "DIS           -0.4698      0.134     -3.500      0.001      -0.734      -0.206\n",
            "==============================================================================\n",
            "Omnibus:                       51.281   Durbin-Watson:                   1.074\n",
            "Prob(Omnibus):                  0.000   Jarque-Bera (JB):              138.689\n",
            "Skew:                           0.565   Prob(JB):                     7.66e-31\n",
            "Kurtosis:                       5.521   Cond. No.                     1.14e+03\n",
            "==============================================================================\n",
            "\n",
            "Warnings:\n",
            "[1] Standard Errors assume that the covariance matrix of the errors is correctly specified.\n",
            "[2] The condition number is large, 1.14e+03. This might indicate that there are\n",
            "strong multicollinearity or other numerical problems.\n"
          ],
          "name": "stdout"
        }
      ]
    },
    {
      "cell_type": "code",
      "metadata": {
        "colab": {
          "base_uri": "https://localhost:8080/",
          "height": 294
        },
        "id": "pFD8J5HBEtbz",
        "outputId": "ccc48846-5663-4b0e-fbac-a87e22f3dae0"
      },
      "source": [
        "import scipy.stats as stats\n",
        "#plt.scatter(reg_line.resid,)\n",
        "qq = stats.probplot(reg_line.resid,dist=stats.norm,plot=plt)"
      ],
      "execution_count": null,
      "outputs": [
        {
          "output_type": "display_data",
          "data": {
            "image/png": "[encoded data removed]",
            "text/plain": [
              "<Figure size 432x288 with 1 Axes>"
            ]
          },
          "metadata": {
            "tags": [],
            "needs_background": "light"
          }
        }
      ]
    },
    {
      "cell_type": "markdown",
      "metadata": {
        "id": "7-Q7xZ8AR1a6"
      },
      "source": [
        "### Interpreting Model Coefficients\n",
        "\n",
        "How do we interpret the `LSTAT`, `RM` and `AGE` coefficients ($b_1$, $b_2$, $b_3$ and $b_4$) estimated from our example?\n",
        "- A unit increase in the proportion of low-status population is **associated with** a `0.5439` unit (in \\$1000) decrease in median value of houses (when other variables `RM` and `AGE` are kept constant).\n",
        "- A unit increase in the average number of rooms per house is **associated with** a `5.8246` unit (in \\$1000) increase in median value of houses (when other variables `LSTAT` and `AGE` are kept constant).\n",
        "- Similar interpretations for $b_3$ and $b_4$.\n"
      ]
    },
    {
      "cell_type": "markdown",
      "metadata": {
        "id": "2CMgOuOaFvjw"
      },
      "source": [
        "It is good to recall few points:\n",
        "\n",
        "- $B_0$ and $B_1$ are estimators of population parameters $\\beta_0$ and $\\beta_1$\n",
        "- This means $B_0$ and $B_1$ have their own sampling distributions (It is Student's $t$ distribution.).\n",
        "- Coefficients $b_0$ and $b_1$ are realizations of $B_0$ and $B_1$ estimated from a certain sample\n",
        "- We can indeed use $b_0$ and $b_1$ to make inferences about $\\beta_0$ and $\\beta_1$ (e.g., build confidence intervals, carry out hypothesis tests, etc.)\n",
        "- But for this class, we will not *manually* calculate $t$ values or derive confidence intervals for $\\beta_0$ and $\\beta_1$. We'll only interpret outputs from `scipy`, `statsmodels` or `sklearn`.\n",
        "\n",
        "By default `statsmodels` calculates two-sided 95% confidence intervals for our model coefficients, but we can change it to any $\\alpha$ value we want. We can create 90% confidence intervals (which would be be more narrower) or 99% confidence intervals (which would be wider), or whatever intervals we like."
      ]
    },
    {
      "cell_type": "markdown",
      "metadata": {
        "id": "IYfDRM8EwCot"
      },
      "source": [
        "### Using the Model for Prediction\n",
        "\n",
        "Let's assume that the median value for a new town with $\\{x_1,x_2,x_3,x_4\\}=\\{20,7,6,50\\}$ What would be your point prediction for his/her blood pressure?\n",
        "\n",
        "$$\\hat{y} = b_0 + b_1x_1 + b_2x_2$$\n",
        "\n",
        "$$\\hat{y} = -5.9274 - 0.4376(20) + 6.1846(7) - 0.0493(6) - 0.4698(50)$$"
      ]
    },
    {
      "cell_type": "code",
      "metadata": {
        "colab": {
          "base_uri": "https://localhost:8080/"
        },
        "id": "8BFgFewQB7Gi",
        "outputId": "8bf9c037-ae21-465c-82e5-d207473ae969"
      },
      "source": [
        "print('y_hat = %.4f + (%.4f)b1 + (%.4f)b2 + (%.4f)b3 + (%.4f)b4' % (reg_line.params.Intercept, reg_line.params.LSTAT, reg_line.params.RM, reg_line.params.AGE, reg_line.params.DIS))"
      ],
      "execution_count": null,
      "outputs": [
        {
          "output_type": "stream",
          "text": [
            "y_hat = -5.9274 + (-0.4376)b1 + (6.1846)b2 + (-0.0493)b3 + (-0.4698)b4\n"
          ],
          "name": "stdout"
        }
      ]
    }
  ]
}