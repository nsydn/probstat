{
 "cells": [
  {
   "cell_type": "markdown",
   "metadata": {},
   "source": [
    "# Recitation W14 (Linear Regression)\n",
    "\n",
    "**Instructor:** Asst. Prof. Nadi Serhan Aydın (Istinye University, Department of Industrial Engineering)\n",
    "\n",
    "*Credits: Kevin Markham*\n",
    "\n",
    "(This notebook can be run locally on Jupyter, or online using platforms such as [Google Colab](https://colab.research.google.com/).)"
   ]
  },
  {
   "cell_type": "code",
   "execution_count": 291,
   "metadata": {},
   "outputs": [],
   "source": [
    "import pandas as pd\n",
    "import numpy as np\n",
    "import matplotlib.pyplot as plt\n",
    "%matplotlib inline"
   ]
  },
  {
   "cell_type": "markdown",
   "metadata": {},
   "source": [
    "## Example: Systolic Blood Pressure Data\n",
    "\n",
    "Let's take a look at some data, ask some questions about that data, and then use linear regression to answer those questions!"
   ]
  },
  {
   "cell_type": "code",
   "execution_count": 292,
   "metadata": {},
   "outputs": [
    {
     "data": {
      "text/html": [
       "<div>\n",
       "<style scoped>\n",
       "    .dataframe tbody tr th:only-of-type {\n",
       "        vertical-align: middle;\n",
       "    }\n",
       "\n",
       "    .dataframe tbody tr th {\n",
       "        vertical-align: top;\n",
       "    }\n",
       "\n",
       "    .dataframe thead th {\n",
       "        text-align: right;\n",
       "    }\n",
       "</style>\n",
       "<table border=\"1\" class=\"dataframe\">\n",
       "  <thead>\n",
       "    <tr style=\"text-align: right;\">\n",
       "      <th></th>\n",
       "      <th>Pressure</th>\n",
       "      <th>Age</th>\n",
       "      <th>Weight</th>\n",
       "    </tr>\n",
       "  </thead>\n",
       "  <tbody>\n",
       "    <tr>\n",
       "      <th>1</th>\n",
       "      <td>132</td>\n",
       "      <td>52</td>\n",
       "      <td>173</td>\n",
       "    </tr>\n",
       "    <tr>\n",
       "      <th>2</th>\n",
       "      <td>143</td>\n",
       "      <td>59</td>\n",
       "      <td>184</td>\n",
       "    </tr>\n",
       "    <tr>\n",
       "      <th>3</th>\n",
       "      <td>153</td>\n",
       "      <td>67</td>\n",
       "      <td>194</td>\n",
       "    </tr>\n",
       "    <tr>\n",
       "      <th>4</th>\n",
       "      <td>162</td>\n",
       "      <td>73</td>\n",
       "      <td>211</td>\n",
       "    </tr>\n",
       "    <tr>\n",
       "      <th>5</th>\n",
       "      <td>154</td>\n",
       "      <td>64</td>\n",
       "      <td>196</td>\n",
       "    </tr>\n",
       "  </tbody>\n",
       "</table>\n",
       "</div>"
      ],
      "text/plain": [
       "   Pressure  Age  Weight\n",
       "1       132   52     173\n",
       "2       143   59     184\n",
       "3       153   67     194\n",
       "4       162   73     211\n",
       "5       154   64     196"
      ]
     },
     "execution_count": 292,
     "metadata": {},
     "output_type": "execute_result"
    }
   ],
   "source": [
    "# read data into a DataFrame\n",
    "data = pd.read_csv('sbp.csv', index_col=0)\n",
    "data.head()"
   ]
  },
  {
   "cell_type": "markdown",
   "metadata": {},
   "source": [
    "What are the **features**?\n",
    "- Age in years\n",
    "- Weight in pounds\n",
    "\n",
    "What is the **response**?\n",
    "- Blood pressure"
   ]
  },
  {
   "cell_type": "code",
   "execution_count": 293,
   "metadata": {},
   "outputs": [
    {
     "data": {
      "text/plain": [
       "(11, 3)"
      ]
     },
     "execution_count": 293,
     "metadata": {},
     "output_type": "execute_result"
    }
   ],
   "source": [
    "# print the shape of the DataFrame\n",
    "data.shape"
   ]
  },
  {
   "cell_type": "code",
   "execution_count": 294,
   "metadata": {},
   "outputs": [
    {
     "data": {
      "text/plain": [
       "<matplotlib.axes._subplots.AxesSubplot at 0x12c208820>"
      ]
     },
     "execution_count": 294,
     "metadata": {},
     "output_type": "execute_result"
    },
    {
     "data": {
      "image/png": "[encoded data removed]",
      "text/plain": [
       "<Figure size 720x360 with 2 Axes>"
      ]
     },
     "metadata": {
      "needs_background": "light"
     },
     "output_type": "display_data"
    }
   ],
   "source": [
    "# visualize the relationship between the features and the response using scatterplots\n",
    "fig, axs = plt.subplots(1, 2)\n",
    "data.plot(kind='scatter', x='Age', y='Pressure', ax=axs[0], figsize=(10, 5))\n",
    "data.plot(kind='scatter', x='Weight', y='Pressure', ax=axs[1])"
   ]
  },
  {
   "cell_type": "markdown",
   "metadata": {},
   "source": [
    "## Departing Questions\n",
    "\n",
    "Let's pretend that you work for a public health institution. You want to find answers to following questions.\n",
    "\n",
    "1. Is there is a relationship between age/weight and blood pressure?\n",
    "2. What is the effect of each independent variable on blood pressure?\n",
    "3. How strong/significant is that relationship?\n",
    "4. Given age/weight of a person, can we predict his/her blood pressure?"
   ]
  },
  {
   "cell_type": "markdown",
   "metadata": {},
   "source": [
    "## Simple Linear Regression\n",
    "\n",
    "Simple linear regression is an approach for predicting a quantitative **response** using a **one or more features** (or \"regressors\" or \"predictors\" or \"input variables\" or \"independent variables\"). It takes the following form:\n",
    "\n",
    "$y = \\beta_0 + \\beta_1x_1 + \\dots + \\beta_nx_n + \\epsilon$\n",
    "\n",
    "What does each term represent?\n",
    "- $y$ is the response\n",
    "- $x_1,\\dots,x_n$ are features\n",
    "- $\\beta_0$ is the *population* intercept coefficient\n",
    "- $\\beta_1,\\dots,\\beta_n$ are the *population* slope coefficients for $x_1,\\dots,x_n$\n",
    "- $\\epsilon$ is the *population* error/residual/innovation term\n",
    "\n",
    "To create our model, we must **estimate** the values of these coefficients based on available data. And once we've estimated these coefficients, we can use the model to **predict** blood pressure for some $x$ values that are in our sample (**in-sample prediction** or **training**) or not even in our sample (**out-of-sample prediction** or **test**)."
   ]
  },
  {
   "cell_type": "markdown",
   "metadata": {},
   "source": [
    "## Estimating (or *Learning*) Model Coefficients\n",
    "\n",
    "Now, assume we have a data set of $N$ observations. Model oefficients are generally estimated using the ordinary **Least Squares Method**, which means we are estimating the regression line that minimizes the **sum of squared errors** or $$SSE=\\sum_{i=1}^N (y_i-\\hat{y})^2=\\sum_{i=1}^N e_i^2$$"
   ]
  },
  {
   "cell_type": "markdown",
   "metadata": {},
   "source": [
    "SciPy's `linregress` function (see W14 slides) can only be used on one-variable regressions. Alternatively, we can use `statsmodels` to estimate the model coefficients for the advertising data:"
   ]
  },
  {
   "cell_type": "code",
   "execution_count": 295,
   "metadata": {},
   "outputs": [
    {
     "data": {
      "text/plain": [
       "Intercept    30.994103\n",
       "Age           0.861415\n",
       "Weight        0.334859\n",
       "dtype: float64"
      ]
     },
     "execution_count": 295,
     "metadata": {},
     "output_type": "execute_result"
    }
   ],
   "source": [
    "import statsmodels.formula.api as smf\n",
    "\n",
    "# Fit a regression model\n",
    "reg_line = smf.ols(formula='Pressure ~ Age + Weight', data=data).fit()\n",
    "\n",
    "# Print the model coefficients or a summary table\n",
    "reg_line.params\n",
    "#print(reg_line.summary())"
   ]
  },
  {
   "cell_type": "markdown",
   "metadata": {},
   "source": [
    "## Interpreting Model Coefficients\n",
    "\n",
    "How do we interpret the Age and Weigth coefficients ($b_1$ and $b_2$) estimated from our example?\n",
    "- A unit increase in age is **associated with** a `0.861415` unit increase in blood pressure (when weight is constant).\n",
    "- A unit increase in weight is **associated with** a `0.334859` unit increase in blood pressure (when age is constant).\n",
    "\n",
    "Note that if an increase in age (or weight) were associated with a **decrease** in blood pressure, $b_1$ (or $b_2$) would be **negative**."
   ]
  },
  {
   "cell_type": "markdown",
   "metadata": {},
   "source": [
    "## Using the Model for Prediction\n",
    "\n",
    "Let's assume that a new person (person $N+1$) shows up with an age of $50$ years and weight of 160 pounds. What would be your point prediction for his/her blood pressure?\n",
    "\n",
    "$$\\hat{y} = b_0 + b_1x_1 + b_2x_2$$\n",
    "\n",
    "$$\\hat{y} = 30.994103 + 0.861415(50) + 0.334859(160)$$"
   ]
  },
  {
   "cell_type": "code",
   "execution_count": 296,
   "metadata": {},
   "outputs": [
    {
     "data": {
      "text/plain": [
       "127.642293"
      ]
     },
     "execution_count": 296,
     "metadata": {},
     "output_type": "execute_result"
    }
   ],
   "source": [
    "# Manually calculate the prediction\n",
    "30.994103 + 0.861415*50 + 0.334859*160"
   ]
  },
  {
   "cell_type": "markdown",
   "metadata": {},
   "source": [
    "Thus, we would predict a blood pressure of $\\hat{y}=127.642293$ units for that $(N+1)$th person. You may then make a  measurement and see that $y=130$ for that person. This means your prediction carries an error of $e=2.357707$ units for that specific observation). \n",
    "<!-- This prediction process is also called **interpolation** (if new $x$ is *inside* the range) or **extrapolation** (if new $x$ is *outside* the range) -->\n",
    "\n",
    "Of course, we can also use `statsmodels` as follows to make this prediction:"
   ]
  },
  {
   "cell_type": "code",
   "execution_count": 297,
   "metadata": {},
   "outputs": [
    {
     "data": {
      "text/html": [
       "<div>\n",
       "<style scoped>\n",
       "    .dataframe tbody tr th:only-of-type {\n",
       "        vertical-align: middle;\n",
       "    }\n",
       "\n",
       "    .dataframe tbody tr th {\n",
       "        vertical-align: top;\n",
       "    }\n",
       "\n",
       "    .dataframe thead th {\n",
       "        text-align: right;\n",
       "    }\n",
       "</style>\n",
       "<table border=\"1\" class=\"dataframe\">\n",
       "  <thead>\n",
       "    <tr style=\"text-align: right;\">\n",
       "      <th></th>\n",
       "      <th>Age</th>\n",
       "      <th>Weight</th>\n",
       "    </tr>\n",
       "  </thead>\n",
       "  <tbody>\n",
       "    <tr>\n",
       "      <th>0</th>\n",
       "      <td>50</td>\n",
       "      <td>160</td>\n",
       "    </tr>\n",
       "  </tbody>\n",
       "</table>\n",
       "</div>"
      ],
      "text/plain": [
       "   Age  Weight\n",
       "0   50     160"
      ]
     },
     "execution_count": 297,
     "metadata": {},
     "output_type": "execute_result"
    }
   ],
   "source": [
    "# First, generate a dataframe for the new observation\n",
    "x_new = pd.DataFrame({'Age': [50],'Weight': [160]})\n",
    "x_new"
   ]
  },
  {
   "cell_type": "code",
   "execution_count": 298,
   "metadata": {},
   "outputs": [
    {
     "data": {
      "text/plain": [
       "0    127.642309\n",
       "dtype: float64"
      ]
     },
     "execution_count": 298,
     "metadata": {},
     "output_type": "execute_result"
    }
   ],
   "source": [
    "# Use the model to make predictions on the new value\n",
    "reg_line.predict(x_new)"
   ]
  },
  {
   "cell_type": "markdown",
   "metadata": {},
   "source": [
    "## Plotting the Least Squares Line\n",
    "\n",
    "Now we see how to plot the regression line against the real data. For illustration purposes, we do this for a single-variable model. Let's first make predictions for the **smallest and largest observed values of x**, and then use the predicted values to plot the least squares line:"
   ]
  },
  {
   "cell_type": "code",
   "execution_count": 299,
   "metadata": {},
   "outputs": [
    {
     "data": {
      "text/html": [
       "<div>\n",
       "<style scoped>\n",
       "    .dataframe tbody tr th:only-of-type {\n",
       "        vertical-align: middle;\n",
       "    }\n",
       "\n",
       "    .dataframe tbody tr th {\n",
       "        vertical-align: top;\n",
       "    }\n",
       "\n",
       "    .dataframe thead th {\n",
       "        text-align: right;\n",
       "    }\n",
       "</style>\n",
       "<table border=\"1\" class=\"dataframe\">\n",
       "  <thead>\n",
       "    <tr style=\"text-align: right;\">\n",
       "      <th></th>\n",
       "      <th>Age</th>\n",
       "    </tr>\n",
       "  </thead>\n",
       "  <tbody>\n",
       "    <tr>\n",
       "      <th>0</th>\n",
       "      <td>46</td>\n",
       "    </tr>\n",
       "    <tr>\n",
       "      <th>1</th>\n",
       "      <td>74</td>\n",
       "    </tr>\n",
       "  </tbody>\n",
       "</table>\n",
       "</div>"
      ],
      "text/plain": [
       "   Age\n",
       "0   46\n",
       "1   74"
      ]
     },
     "execution_count": 299,
     "metadata": {},
     "output_type": "execute_result"
    }
   ],
   "source": [
    "# Let's first regress Blood Pressure on Age (or Weight) \n",
    "reg_line = smf.ols(formula='Pressure ~ Age', data=data).fit()\n",
    "# We'll plot the regression line between min and max Age values\n",
    "x_new = pd.DataFrame({'Age': [data.Age.min(), data.Age.max()]})\n",
    "x_new"
   ]
  },
  {
   "cell_type": "code",
   "execution_count": 300,
   "metadata": {},
   "outputs": [
    {
     "data": {
      "text/plain": [
       "0    126.014117\n",
       "1    166.984570\n",
       "dtype: float64"
      ]
     },
     "execution_count": 300,
     "metadata": {},
     "output_type": "execute_result"
    }
   ],
   "source": [
    "# Make predictions for those x values and store them\n",
    "preds = reg_line.predict(x_new)\n",
    "preds"
   ]
  },
  {
   "cell_type": "code",
   "execution_count": 301,
   "metadata": {
    "scrolled": false
   },
   "outputs": [
    {
     "data": {
      "text/plain": [
       "[<matplotlib.lines.Line2D at 0x12c2e5610>]"
      ]
     },
     "execution_count": 301,
     "metadata": {},
     "output_type": "execute_result"
    },
    {
     "data": {
      "image/png": "[encoded data removed]",
      "text/plain": [
       "<Figure size 432x288 with 1 Axes>"
      ]
     },
     "metadata": {
      "needs_background": "light"
     },
     "output_type": "display_data"
    }
   ],
   "source": [
    "# First, scatter-plot the observed data\n",
    "data.plot(kind='scatter', x='Age', y='Pressure')\n",
    "\n",
    "# Then, plot the least squares line\n",
    "plt.plot(X_new, preds, c='red', linewidth=2)"
   ]
  },
  {
   "cell_type": "markdown",
   "metadata": {},
   "source": [
    "## Confidence Intervals for Population Coefficients\n",
    "\n",
    "<!-- **Question:** Is linear regression a high bias/low variance model, or a low bias/high variance model? -->\n",
    "\n",
    "<!-- **Answer:** High bias/low variance. Under repeated sampling, the line will stay roughly in the same place (low variance), but the average of those models won't do a great job capturing the true relationship (high bias). Note that low variance is a useful characteristic when you don't have a lot of training data! -->\n",
    "\n",
    "It is good to recall few points:\n",
    "\n",
    "- $B_0$ and $B_1$ are estimators of population parameters $\\beta_0$ and $\\beta_1$\n",
    "- This means $B_0$ and $B_1$ have their own sampling distributions (It is Student's $t$ distribution.).\n",
    "- Coefficients $b_0$ and $b_1$ are realizations of $B_0$ and $B_1$ estimated from a certain sample\n",
    "- We can indeed use $b_0$ and $b_1$ to make inferences about $\\beta_0$ and $\\beta_1$ (e.g., build confidence intervals, carry out hypothesis tests, etc.)\n",
    "- But for this class, we will not *manually* calculate $t$ values or derive confidence intervals for $\\beta_0$ and $\\beta_1$. We'll only interpret outputs from `scipy`, `statsmodels` or `sklearn`.\n",
    "\n",
    "By default `statsmodels` calculates two-sided 95% confidence intervals for our model coefficients, but we can change it to any $\\alpha$ value we want. We can create 90% confidence intervals (which would be be more narrower) or 99% confidence intervals (which would be wider), or whatever intervals we like."
   ]
  },
  {
   "cell_type": "code",
   "execution_count": 302,
   "metadata": {},
   "outputs": [
    {
     "data": {
      "text/html": [
       "<div>\n",
       "<style scoped>\n",
       "    .dataframe tbody tr th:only-of-type {\n",
       "        vertical-align: middle;\n",
       "    }\n",
       "\n",
       "    .dataframe tbody tr th {\n",
       "        vertical-align: top;\n",
       "    }\n",
       "\n",
       "    .dataframe thead th {\n",
       "        text-align: right;\n",
       "    }\n",
       "</style>\n",
       "<table border=\"1\" class=\"dataframe\">\n",
       "  <thead>\n",
       "    <tr style=\"text-align: right;\">\n",
       "      <th></th>\n",
       "      <th>0</th>\n",
       "      <th>1</th>\n",
       "    </tr>\n",
       "  </thead>\n",
       "  <tbody>\n",
       "    <tr>\n",
       "      <th>Intercept</th>\n",
       "      <td>3.451696</td>\n",
       "      <td>58.536510</td>\n",
       "    </tr>\n",
       "    <tr>\n",
       "      <th>Age</th>\n",
       "      <td>0.288992</td>\n",
       "      <td>1.433837</td>\n",
       "    </tr>\n",
       "    <tr>\n",
       "      <th>Weight</th>\n",
       "      <td>0.033538</td>\n",
       "      <td>0.636181</td>\n",
       "    </tr>\n",
       "  </tbody>\n",
       "</table>\n",
       "</div>"
      ],
      "text/plain": [
       "                  0          1\n",
       "Intercept  3.451696  58.536510\n",
       "Age        0.288992   1.433837\n",
       "Weight     0.033538   0.636181"
      ]
     },
     "execution_count": 302,
     "metadata": {},
     "output_type": "execute_result"
    }
   ],
   "source": [
    "# Estimate our regression parameters again\n",
    "reg_line = smf.ols(formula='Pressure ~ Age + Weight', data=data).fit()\n",
    "# Then, print the confidence intervals for the model coefficients\n",
    "reg_line.conf_int(alpha=0.05)"
   ]
  },
  {
   "cell_type": "markdown",
   "metadata": {},
   "source": [
    "## Hypothesis Testing and P-value Approach\n",
    "\n",
    "<!-- Closely related to confidence intervals is **hypothesis testing**. Generally speaking, you start with a **null hypothesis** and an **alternative hypothesis** (that is opposite the null). Then, you check whether the data supports **rejecting the null hypothesis** or **failing to reject the null hypothesis**. -->\n",
    "\n",
    "<!-- (Note that \"failing to reject\" the null is not the same as \"accepting\" the null hypothesis. The alternative hypothesis may indeed be true, except that you just don't have enough data to show that.) -->\n",
    "\n",
    "`statsmodels` can report 2-sided P-values for testing the below 2-sided hypothesis regarding model coefficients.\n",
    "\n",
    "$H_0: \\beta_1=0$, i.e., there **is no** significant relationship between Age and Blood Pressure<br>\n",
    "$H_1: \\beta_1\\neq0$, i.e., there **is** significant relationship between Age and Blood Pressure\n",
    "\n",
    "(The same hypothesis can be asserted for Weight as well) Intuitively, we can reject the null hypothesis if the 95% confidence interval **does not include zero** (check the confidence itnervals above). Conversely, the **P-value approach** can be used to reject or not reject the null hypothesis. For example, if the P-value for Age is far less than  $\\alpha=0.05$, then we can accept $H_1$, that is, there is a significant relationship between Age and Blood Pressure."
   ]
  },
  {
   "cell_type": "code",
   "execution_count": 303,
   "metadata": {},
   "outputs": [
    {
     "data": {
      "text/plain": [
       "Intercept    0.031865\n",
       "Age          0.008440\n",
       "Weight       0.033508\n",
       "dtype: float64"
      ]
     },
     "execution_count": 303,
     "metadata": {},
     "output_type": "execute_result"
    }
   ],
   "source": [
    "# Print the P-values for the model coefficients\n",
    "reg_line.pvalues"
   ]
  },
  {
   "cell_type": "markdown",
   "metadata": {},
   "source": [
    "<!-- If the 95% confidence interval **includes zero**, the p-value for that coefficient will be **greater than 0.05**. If the 95% confidence interval **does not include zero**, the p-value will be **less than 0.05**. Thus, a p-value less than 0.05 is one way to decide whether there is likely a relationship between the feature and the response. (Again, using 0.05 as the cutoff is just a convention.) -->\n",
    "\n",
    "<!-- If the p-value for Age is far less than $\\alpha=0.05$ (one-sided test) or $\\alpha/2=0.025$ (one-sided test), then we **believe** that there is a significant relationship between Age and Pressure. -->\n",
    "\n",
    "Accordingly, for all coefficients (namely, `Intercept`, `Age` and `Weight`), $H_0$ can be rejected (but most strongly for `Age`).\n",
    "\n",
    "Note however that we generally ignore the P-value (or hypothesis test) concerning the intercept."
   ]
  },
  {
   "cell_type": "markdown",
   "metadata": {},
   "source": [
    "## Measure of Fit\n",
    "\n",
    "The most common way to evaluate the overall fit of a linear model is by the **R-squared** value (again, refer to W14 slides). R-squared is the **proportion of variance explained**, meaning the proportion of variance in the observed data that is explained by the model.\n",
    "<!-- , or the reduction in error over the **null model**. (The null model just predicts the mean of the observed response, and thus it has an intercept and no slope.) -->\n",
    "\n",
    "$R^2$ is between 0 and 1, and higher $R^2$ values are better, meaning that more variance is explained by the model."
   ]
  },
  {
   "cell_type": "markdown",
   "metadata": {},
   "source": [
    "Let's calculate the $R^2$ value for our simple linear model:"
   ]
  },
  {
   "cell_type": "code",
   "execution_count": 304,
   "metadata": {},
   "outputs": [
    {
     "name": "stdout",
     "output_type": "stream",
     "text": [
      "Model 1: 0.9578\n",
      "Model 2: 0.9420\n",
      "Model 3: 0.9768\n"
     ]
    }
   ],
   "source": [
    "# Print the R-squared value for different models.\n",
    "reg_line1 = smf.ols(formula='Pressure ~ Age', data=data).fit()\n",
    "reg_line2 = smf.ols(formula='Pressure ~ Weight', data=data).fit()\n",
    "reg_line3 = smf.ols(formula='Pressure ~ Age + Weight', data=data).fit()\n",
    "print('Model 1: %.4f\\nModel 2: %.4f\\nModel 3: %.4f' % (reg_line1.rsquared,reg_line2.rsquared,reg_line3.rsquared))"
   ]
  },
  {
   "cell_type": "markdown",
   "metadata": {},
   "source": [
    "Again, remember that $R^2$ should not be used for comparing models with different number of regressors (because adding new regressors lead to articially higher values of $R^2$ and causes **overfitting** and this is true even if they are unrelated to the response $Y$). \n",
    "<!-- Is that a \"good\" R-squared value? It's hard to say. The threshold for a good R-squared value depends widely on the domain.  -->\n",
    "<!-- Therefore, it's most useful as a tool for **comparing different models**. -->"
   ]
  },
  {
   "cell_type": "markdown",
   "metadata": {},
   "source": [
    "**R-squared will always increase as you add more features to the model**, even if they are unrelated to the response. Thus, selecting the model with the highest R-squared is not a reliable approach for choosing the best linear model.\n",
    "\n",
    "There is alternative to R-squared called **adjusted R-squared** that penalizes model complexity to control for overfitting (Adjusted $R^2$ is reported in the regression summary table obtained using `reg_line.summary()` command.).\n",
    "\n",
    "<!-- but it generally [under-penalizes complexity](http://scott.fortmann-roe.com/docs/MeasuringError.html). -->\n",
    "\n",
    "<!-- So is there a better approach to feature selection? **Cross-validation.** It provides a more reliable estimate of out-of-sample error, and thus is a better way to choose which of your models will best **generalize** to out-of-sample data. There is extensive functionality for cross-validation in scikit-learn, including automated methods for searching different sets of parameters and different models. Importantly, cross-validation can be applied to any model, whereas the methods described above only apply to linear models. -->"
   ]
  },
  {
   "cell_type": "markdown",
   "metadata": {},
   "source": [
    "## Linear Regression in scikit-learn\n",
    "\n",
    "Let's see how `sklearn` can be used to perform some of the steps above."
   ]
  },
  {
   "cell_type": "code",
   "execution_count": 305,
   "metadata": {},
   "outputs": [
    {
     "name": "stdout",
     "output_type": "stream",
     "text": [
      "30.994102952348328\n",
      "[0.86141469 0.3348592 ]\n"
     ]
    }
   ],
   "source": [
    "# Generate x and y\n",
    "feature_cols = ['Age', 'Weight']\n",
    "x = data[feature_cols]\n",
    "y = data.Pressure\n",
    "\n",
    "# Use sklearn to fit regression line\n",
    "from sklearn.linear_model import LinearRegression\n",
    "reg_line = LinearRegression()\n",
    "reg_line.fit(x, y)\n",
    "\n",
    "# Print intercept and coefficients\n",
    "print(reg_line.intercept_)\n",
    "print(reg_line.coef_)"
   ]
  },
  {
   "cell_type": "code",
   "execution_count": 306,
   "metadata": {},
   "outputs": [
    {
     "data": {
      "text/plain": [
       "array([127.64230882])"
      ]
     },
     "execution_count": 306,
     "metadata": {},
     "output_type": "execute_result"
    }
   ],
   "source": [
    "# Predict for a new observation\n",
    "reg_line.predict([[50,160]])"
   ]
  },
  {
   "cell_type": "code",
   "execution_count": 307,
   "metadata": {},
   "outputs": [
    {
     "data": {
      "text/plain": [
       "0.9768471041502093"
      ]
     },
     "execution_count": 307,
     "metadata": {},
     "output_type": "execute_result"
    }
   ],
   "source": [
    "# Calculate the R-squared\n",
    "lm.score(x, y)"
   ]
  },
  {
   "cell_type": "markdown",
   "metadata": {},
   "source": [
    "Finally, note that **p-values** and **confidence intervals** are not (easily) accessible through `scikit-learn`."
   ]
  }
 ],
 "metadata": {
  "kernelspec": {
   "display_name": "Python 3",
   "language": "python",
   "name": "python3"
  },
  "language_info": {
   "codemirror_mode": {
    "name": "ipython",
    "version": 3
   },
   "file_extension": ".py",
   "mimetype": "text/x-python",
   "name": "python",
   "nbconvert_exporter": "python",
   "pygments_lexer": "ipython3",
   "version": "3.8.2"
  }
 },
 "nbformat": 4,
 "nbformat_minor": 1
}
